{
 "cells": [
  {
   "cell_type": "code",
   "execution_count": 22,
   "metadata": {},
   "outputs": [],
   "source": [
    "import numpy as np\n",
    "import tensorflow as tf\n",
    "import keras\n",
    "from keras.models import Sequential\n",
    "from keras.layers import Conv2D, MaxPooling2D, AveragePooling2D\n",
    "from keras.layers import Dense, Activation, Dropout, Flatten\n",
    "from keras.preprocessing import image\n",
    "from keras.preprocessing.image import ImageDataGenerator\n",
    "import matplotlib.pyplot as plt\n",
    "%matplotlib inline"
   ]
  },
  {
   "cell_type": "code",
   "execution_count": 2,
   "metadata": {},
   "outputs": [
    {
     "name": "stdout",
     "output_type": "stream",
     "text": [
      "no. of instances:  35888\n"
     ]
    }
   ],
   "source": [
    "with open('../dataset/fer2013.csv','r') as file:\n",
    "    contents = file.readlines()\n",
    "    \n",
    "lines = np.array(contents)\n",
    "\n",
    "no_of_instances = lines.size\n",
    "print(\"no. of instances: \", no_of_instances)"
   ]
  },
  {
   "cell_type": "code",
   "execution_count": 3,
   "metadata": {},
   "outputs": [
    {
     "name": "stdout",
     "output_type": "stream",
     "text": [
      "instance length:  2304\n"
     ]
    }
   ],
   "source": [
    "print(\"instance length: \",len(lines[1].split(\",\")[1].split(\" \")))"
   ]
  },
  {
   "cell_type": "code",
   "execution_count": 4,
   "metadata": {},
   "outputs": [],
   "source": [
    "X_train, y_train, X_test, y_test = [], [], [], []\n",
    "\n",
    "for i in range(1, no_of_instances): # starting from 2nd line bcz 1st line is header\n",
    "    emotion, pixels, usage = lines[i].split(\",\")\n",
    "    \n",
    "    val = pixels.split(\" \")\n",
    "    img_px = np.array(val, 'float32')\n",
    "    \n",
    "    emotion = keras.utils.to_categorical(emotion, 7) \n",
    "    \"\"\"\n",
    "    this above step is crucial, even though the emotion column already had categorical values,\n",
    "    a mismatch of dimension in output layer occurs if I don't explicitly convert them to categorical.\n",
    "    Or may be earlier the values were as string. Need to find out!\n",
    "    For now changing emotion to categorical values works.\n",
    "    \"\"\"\n",
    "    \n",
    "    if 'Training' in usage:\n",
    "        X_train.append(img_px)\n",
    "        y_train.append(emotion)\n",
    "    elif 'PublicTest' in usage:\n",
    "        X_test.append(img_px)\n",
    "        y_test.append(emotion)"
   ]
  },
  {
   "cell_type": "code",
   "execution_count": 5,
   "metadata": {},
   "outputs": [
    {
     "name": "stdout",
     "output_type": "stream",
     "text": [
      "28709 train samples\n",
      "3589 test samples\n"
     ]
    }
   ],
   "source": [
    "#data transformation for train and test sets\n",
    "X_train = np.array(X_train, 'float32')\n",
    "y_train = np.array(y_train, 'float32')\n",
    "X_test = np.array(X_test, 'float32')\n",
    "y_test = np.array(y_test, 'float32')\n",
    "\n",
    "X_train /= 255 #normalize inputs between [0, 1]\n",
    "X_test /= 255\n",
    "\n",
    "X_train = X_train.reshape(X_train.shape[0], 48, 48, 1)\n",
    "X_train = X_train.astype('float32')\n",
    "X_test = X_test.reshape(X_test.shape[0], 48, 48, 1)\n",
    "X_test = X_test.astype('float32')\n",
    "\n",
    "print(X_train.shape[0], 'train samples')\n",
    "print(X_test.shape[0], 'test samples')"
   ]
  },
  {
   "cell_type": "code",
   "execution_count": 6,
   "metadata": {
    "scrolled": true
   },
   "outputs": [],
   "source": [
    "#initializing the CNN\n",
    "classifier = Sequential()\n",
    "\n",
    "#1st convolution layer\n",
    "classifier.add(Conv2D(64,(5,5), activation='relu', input_shape=(48,48,1)))\n",
    "classifier.add(MaxPooling2D(pool_size=(5,5), strides=(2,2)))\n",
    "\n",
    "#2nd convolution layer\n",
    "classifier.add(Conv2D(64,(3,3), activation='relu'))\n",
    "classifier.add(Conv2D(64,(3,3), activation='relu'))\n",
    "classifier.add(AveragePooling2D(pool_size=(3,3), strides=(2,2)))\n",
    "\n",
    "#3rd convolution layer\n",
    "classifier.add(Conv2D(128,(3,3), activation='relu'))\n",
    "classifier.add(Conv2D(128,(3,3), activation='relu'))\n",
    "classifier.add(AveragePooling2D(pool_size=(3,3), strides=(2,2)))\n",
    "\n",
    "#Flattening\n",
    "classifier.add(Flatten())\n",
    "\n",
    "#Full connection\n",
    "classifier.add(Dense(units=1024, activation='relu'))\n",
    "classifier.add(Dropout(0.2))\n",
    "classifier.add(Dense(units=1024, activation='relu'))\n",
    "classifier.add(Dropout(0.2))\n",
    "\n",
    "classifier.add(Dense(units=7, activation='softmax'))\n"
   ]
  },
  {
   "cell_type": "code",
   "execution_count": 7,
   "metadata": {},
   "outputs": [
    {
     "name": "stdout",
     "output_type": "stream",
     "text": [
      "Epoch 1/10\n",
      "256/256 [==============================] - 148s 577ms/step - loss: 1.7948 - acc: 0.2547\n",
      "Epoch 2/10\n",
      "256/256 [==============================] - 115s 451ms/step - loss: 1.5912 - acc: 0.3680\n",
      "Epoch 3/10\n",
      "256/256 [==============================] - 129s 502ms/step - loss: 1.4083 - acc: 0.4546\n",
      "Epoch 4/10\n",
      "256/256 [==============================] - 138s 539ms/step - loss: 1.2816 - acc: 0.5109\n",
      "Epoch 5/10\n",
      "256/256 [==============================] - 191s 746ms/step - loss: 1.2014 - acc: 0.5421\n",
      "Epoch 6/10\n",
      "256/256 [==============================] - 137s 536ms/step - loss: 1.1344 - acc: 0.5719\n",
      "Epoch 7/10\n",
      "256/256 [==============================] - 175s 683ms/step - loss: 1.0836 - acc: 0.5899\n",
      "Epoch 8/10\n",
      "256/256 [==============================] - 144s 564ms/step - loss: 1.0203 - acc: 0.6156\n",
      "Epoch 9/10\n",
      "256/256 [==============================] - 153s 599ms/step - loss: 0.9671 - acc: 0.6361\n",
      "Epoch 10/10\n",
      "256/256 [==============================] - 142s 557ms/step - loss: 0.9180 - acc: 0.6556\n"
     ]
    },
    {
     "data": {
      "text/plain": [
       "<keras.callbacks.History at 0x9b156896a0>"
      ]
     },
     "execution_count": 7,
     "metadata": {},
     "output_type": "execute_result"
    }
   ],
   "source": [
    "train_datagen = ImageDataGenerator()\n",
    "\n",
    "# test_datagen = ImageDataGenerator(rescale = 1./255)\n",
    "\n",
    "training_set = train_datagen.flow(X_train, y_train, batch_size=256)\n",
    "# testing_set = test_datagen.flow(X_test, y_test, batch_size=256)\n",
    "\n",
    "#Compile the CNN\n",
    "classifier.compile(\n",
    "    optimizer='adam', \n",
    "    loss='categorical_crossentropy', \n",
    "    metrics=['accuracy']\n",
    ")\n",
    "\n",
    "classifier.fit_generator(\n",
    "    training_set,\n",
    "    steps_per_epoch=256,\n",
    "    epochs=10\n",
    ")"
   ]
  },
  {
   "cell_type": "code",
   "execution_count": 8,
   "metadata": {},
   "outputs": [
    {
     "name": "stdout",
     "output_type": "stream",
     "text": [
      "Train loss: 0.8358180029559416\n",
      "Train accuracy: 69.11769828297608\n",
      "Test loss: 1.2238487996374807\n",
      "Test accuracy: 56.2552242972918\n"
     ]
    }
   ],
   "source": [
    "train_score = classifier.evaluate(X_train, y_train, verbose=0)\n",
    "print('Train loss:', train_score[0])\n",
    "print('Train accuracy:', 100*train_score[1])\n",
    " \n",
    "test_score = classifier.evaluate(X_test, y_test, verbose=0)\n",
    "print('Test loss:', test_score[0])\n",
    "print('Test accuracy:', 100*test_score[1])"
   ]
  },
  {
   "cell_type": "code",
   "execution_count": 24,
   "metadata": {},
   "outputs": [
    {
     "data": {
      "image/png": "[encoded data removed]",
      "text/plain": [
       "<matplotlib.figure.Figure at 0x9bbd5b1b38>"
      ]
     },
     "metadata": {},
     "output_type": "display_data"
    }
   ],
   "source": [
    "#testing on custom images\n",
    "img = image.load_img(\"D:\\My_Work\\PyCharm\\Facial-Expression-Recognition\\dataset\\images\\example4.png\", grayscale=True, target_size=(48, 48))\n",
    " \n",
    "x = image.img_to_array(img)\n",
    "x = np.expand_dims(x, axis = 0)\n",
    " \n",
    "x /= 255\n",
    " \n",
    "custom = classifier.predict(x)\n",
    "\n",
    "emotion_analysis(custom[0])\n",
    " \n",
    "x = np.array(x, 'float32')\n",
    "x = x.reshape([48, 48]);\n",
    " \n",
    "plt.gray()\n",
    "plt.imshow(x)\n",
    "plt.show()\n",
    "\n",
    "\n",
    "def emotion_analysis(emotions):\n",
    "    objects = ('angry', 'disgust', 'fear', 'happy', 'sad', 'surprise', 'neutral')\n",
    "    y_pos = np.arange(len(objects))\n",
    "\n",
    "    plt.bar(y_pos, emotions, align='center', alpha=0.5)\n",
    "    plt.xticks(y_pos, objects)\n",
    "    plt.ylabel('percentage')\n",
    "    plt.title('emotion')\n",
    "    plt.show()"
   ]
  },
  {
   "cell_type": "code",
   "execution_count": null,
   "metadata": {},
   "outputs": [],
   "source": []
  },
  {
   "cell_type": "code",
   "execution_count": null,
   "metadata": {},
   "outputs": [],
   "source": []
  }
 ],
 "metadata": {
  "kernelspec": {
   "display_name": "Python 3",
   "language": "python",
   "name": "python3"
  },
  "language_info": {
   "codemirror_mode": {
    "name": "ipython",
    "version": 3
   },
   "file_extension": ".py",
   "mimetype": "text/x-python",
   "name": "python",
   "nbconvert_exporter": "python",
   "pygments_lexer": "ipython3",
   "version": "3.6.4"
  }
 },
 "nbformat": 4,
 "nbformat_minor": 2
}
